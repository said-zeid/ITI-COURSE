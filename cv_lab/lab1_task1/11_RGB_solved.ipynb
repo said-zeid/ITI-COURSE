{
 "metadata": {
  "language_info": {
   "codemirror_mode": {
    "name": "ipython",
    "version": 3
   },
   "file_extension": ".py",
   "mimetype": "text/x-python",
   "name": "python",
   "nbconvert_exporter": "python",
   "pygments_lexer": "ipython3",
   "version": 3
  },
  "orig_nbformat": 2
 },
 "nbformat": 4,
 "nbformat_minor": 2,
 "cells": [
  {
   "source": [
    "# Playing around\n",
    "\n",
    "## Task\n",
    "\n",
    "Write a script to generate this random colors video for 10 seconds.\n",
    "\n",
    "## Output\n",
    "\n",
    "![this video](Files/11_output.gif)\n",
    "\n",
    "## Criteria\n",
    "- Must use opencv for saving the video.\n",
    "- Colors must be random in the three (R, G, and B) channels.\n",
    "- View video frames while the code is running.\n",
    "\n",
    "## Grade\n",
    "10"
   ],
   "cell_type": "markdown",
   "metadata": {}
  },
  {
   "cell_type": "code",
   "execution_count": null,
   "metadata": {},
   "outputs": [],
   "source": [
    "import cv2\n",
    "import numpy as np\n",
    "import glob\n",
    "img_array = []\n",
    "c=0\n",
    "for c in range(1,101):\n",
    "        lab=np.zeros((265,265,3),np.uint8)\n",
    "        lab[:]=np.random.rand(1,3)*256\n",
    "        img_array.append(lab)\n",
    "        c=c+1\n",
    "\"\"\"\n",
    "for filename in glob.glob('*.jpg'):\n",
    "    print(filename)\n",
    "    img = cv2.imread(filename)\n",
    "    height, width, layers = img.shape\n",
    "    size = (width,height)\n",
    "    img_array.append(img)\n",
    "\"\"\"    \n",
    "height=265\n",
    "width=265\n",
    "size = (width,height)\n",
    "out = cv2.VideoWriter('project4.mp4',cv2.VideoWriter_fourcc(*'DIVX'), 10, size)\n",
    "for i in range(len(img_array)):\n",
    "    said=img_array[i]\n",
    "    print(said)\n",
    "    cv2.imshow('said',said)\n",
    "    cv2.waitKey(100)\n",
    "    out.write(img_array[i])\n",
    "out.release()"
   ]
  }
 ]
}