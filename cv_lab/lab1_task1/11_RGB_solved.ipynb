{
 "metadata": {
  "language_info": {
   "codemirror_mode": {
    "name": "ipython",
    "version": 3
   },
   "file_extension": ".py",
   "mimetype": "text/x-python",
   "name": "python",
   "nbconvert_exporter": "python",
   "pygments_lexer": "ipython3",
   "version": 3
  },
  "orig_nbformat": 2
 },
 "nbformat": 4,
 "nbformat_minor": 2,
 "cells": [
  {
   "source": [
    "# Playing around\n",
    "\n",
    "## Task\n",
    "\n",
    "Write a script to generate this random colors video for 10 seconds.\n",
    "\n",
    "## Output\n",
    "\n",
    "![this video](Files/11_output.gif)\n",
    "\n",
    "## Criteria\n",
    "- Must use opencv for saving the video.\n",
    "- Colors must be random in the three (R, G, and B) channels.\n",
    "- View video frames while the code is running.\n",
    "\n",
    "## Grade\n",
    "10"
   ],
   "cell_type": "markdown",
   "metadata": {}
  },
  {
   "cell_type": "code",
   "execution_count": null,
   "metadata": {},
   "outputs": [],
   "source": []
  }
 ]
}