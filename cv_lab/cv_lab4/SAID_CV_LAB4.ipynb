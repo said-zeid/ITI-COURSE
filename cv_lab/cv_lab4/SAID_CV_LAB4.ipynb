{
 "cells": [
  {
   "cell_type": "code",
   "execution_count": 31,
   "metadata": {},
   "outputs": [],
   "source": [
    "import numpy as np\n",
    "import cv2 as cv\n",
    "import matplotlib.pyplot as plt\n",
    "from PIL import Image\n",
    "def SHOW(img):\n",
    "    display(Image.fromarray(img[:,:,::-1]));\n",
    "font = cv.FONT_HERSHEY_SIMPLEX\n",
    "# mouse callback function\n",
    "def draw_circle(event,x,y,flags,param):\n",
    "    if event == cv.EVENT_LBUTTONDOWN:\n",
    "        cv.rectangle(img,(x, y), (x+10, y+10),(0, 0, 255), -1)\n",
    "    if event == cv.EVENT_LBUTTONUP:\n",
    "        cv.rectangle(img,(x, y), (x+20, y+10),(0, 255, 0), -1)\n",
    "\n",
    "    if event == cv.EVENT_RBUTTONDOWN:\n",
    "        cv.circle(img,(x,y),15,(255,0, 0),-1)\n",
    "    if event == cv.EVENT_RBUTTONUP:\n",
    "        cv.ellipse(img,(x,y),(15,15),0,0,180,(0,0,255),2)\n",
    "    if event == cv.EVENT_MBUTTONDOWN:\n",
    "        cv.putText(img, 'said zeid', (x, y), font, 1, (0, 0, 255), 6, cv.FILLED)       \n",
    "\n",
    "# Create a black image, a window and bind the function to window\n",
    "img = np.zeros((512,512,3), np.uint8)\n",
    "\n",
    "cv.namedWindow('image')\n",
    "cv.setMouseCallback('image', draw_circle)\n",
    "\n",
    "while(1):\n",
    "    cv.imshow('image',img)\n",
    "    if cv.waitKey(20) == ord('q'):\n",
    "        break\n",
    "\n",
    "cv.destroyAllWindows()\n",
    "\n"
   ]
  },
  {
   "cell_type": "code",
   "execution_count": null,
   "metadata": {},
   "outputs": [],
   "source": []
  }
 ],
 "metadata": {
  "kernelspec": {
   "name": "python385jvsc74a57bd05d5f2289a8fd440c6e2dadb42c4e85fe70d824934ba370ccb148d08da48b27fc",
   "display_name": "Python 3.8.5 64-bit ('base': conda)"
  },
  "language_info": {
   "codemirror_mode": {
    "name": "ipython",
    "version": 3
   },
   "file_extension": ".py",
   "mimetype": "text/x-python",
   "name": "python",
   "nbconvert_exporter": "python",
   "pygments_lexer": "ipython3",
   "version": "3.8.5"
  },
  "metadata": {
   "interpreter": {
    "hash": "5d5f2289a8fd440c6e2dadb42c4e85fe70d824934ba370ccb148d08da48b27fc"
   }
  }
 },
 "nbformat": 4,
 "nbformat_minor": 4
}