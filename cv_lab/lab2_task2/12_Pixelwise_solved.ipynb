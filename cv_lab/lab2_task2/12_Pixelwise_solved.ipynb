{
 "metadata": {
  "language_info": {
   "codemirror_mode": {
    "name": "ipython",
    "version": 3
   },
   "file_extension": ".py",
   "mimetype": "text/x-python",
   "name": "python",
   "nbconvert_exporter": "python",
   "pygments_lexer": "ipython3",
   "version": "3.8.5"
  },
  "orig_nbformat": 2,
  "kernelspec": {
   "name": "python385jvsc74a57bd05d5f2289a8fd440c6e2dadb42c4e85fe70d824934ba370ccb148d08da48b27fc",
   "display_name": "Python 3.8.5 64-bit ('base': conda)"
  },
  "metadata": {
   "interpreter": {
    "hash": "5d5f2289a8fd440c6e2dadb42c4e85fe70d824934ba370ccb148d08da48b27fc"
   }
  }
 },
 "nbformat": 4,
 "nbformat_minor": 2,
 "cells": [
  {
   "source": [
    "# Lighting again\n",
    "\n",
    "## Task\n",
    "\n",
    "In this lab we need to create a black image with one vertical and one horizontal lines that appear in random positions each frame with random color\n",
    "\n",
    "## Output should be like this\n",
    "![Video](Files/12_output.gif)\n",
    "\n",
    "## Criteria\n",
    "\n",
    "- Image width must be higher than height.\n",
    "- Image color must be black.\n",
    "- The 2 lines must:\n",
    "    - Have random color for each one.\n",
    "    - Appear independant of each other.\n",
    "\n",
    "## Grade\n",
    "10"
   ],
   "cell_type": "markdown",
   "metadata": {}
  },
  {
   "cell_type": "code",
   "execution_count": 1,
   "metadata": {},
   "outputs": [],
   "source": [
    "import numpy as np\n",
    "import cv2\n",
    "import random\n",
    "from matplotlib import pyplot as plt \n",
    "my_img_1 = np.zeros((255, 255, 3), np.uint8)\n",
    "c=0\n",
    "\n",
    "while c in range(1,50):\n",
    "    row=random.randint(1,255)\n",
    "    col=random.randint(1,255)\n",
    "    x=random.randint(1,255)\n",
    "    y=random.randint(1,255)\n",
    "    my_img_1[row,:]=x\n",
    "    my_img_1[:,col]=y\n",
    "    cv2.waitKey(50)\n",
    "    c+=1\n",
    "    cv2.imshow('Single Channel', my_img_1)"
   ]
  },
  {
   "cell_type": "code",
   "execution_count": null,
   "metadata": {},
   "outputs": [],
   "source": []
  }
 ]
}