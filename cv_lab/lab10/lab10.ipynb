{
 "cells": [
  {
   "cell_type": "code",
   "execution_count": 51,
   "metadata": {},
   "outputs": [
    {
     "output_type": "display_data",
     "data": {
      "text/plain": "<PIL.Image.Image image mode=RGB size=500x500 at 0x7FAA1C495760>",
      "image/png": "[encoded data removed]"
     },
     "metadata": {}
    },
    {
     "output_type": "execute_result",
     "data": {
      "text/plain": [
       "\"\\ncv2.imshow('Output', image)\\nk = cv2.waitKey(0)\\nif k == 'q':\\n    break\\n\\ncv2.destroyAllWindows()\\n\""
      ]
     },
     "metadata": {},
     "execution_count": 51
    }
   ],
   "source": [
    "import cv2\n",
    "import numpy as np\n",
    "from skimage import img_as_float\n",
    "from PIL import Image\n",
    "\n",
    "def show(img):\n",
    "    if (len(img.shape) == 2):\n",
    "        display(Image.fromarray(img));    \n",
    "    else:\n",
    "        display(Image.fromarray(img[:,:,::-1]));\n",
    "\n",
    "img = cv2.imread('lab.png')\n",
    "out = img.copy()\n",
    "gray = cv2.cvtColor(img, cv2.COLOR_BGR2GRAY)\n",
    "\n",
    "_, th = cv2.threshold(gray, 10, 255, cv2.THRESH_BINARY)\n",
    "                        \n",
    "#contours, _= cv2.findContours(th, cv2.RETR_TREE, cv2.CHAIN_APPROX_SIMPLE)\n",
    "len(contours)\n",
    "#print(contours[2])\n",
    "\n",
    "contours, _ = cv2.findContours(th, cv2.RETR_TREE, cv2.CHAIN_APPROX_NONE)\n",
    "ii=cv2.drawContours(out, [contours[2]], -1, (255, 0, 0), cv2.FILLED)\n",
    "ii=cv2.drawContours(out, [contours[4]], -1, (0, 0,255), cv2.FILLED)\n",
    "ii=cv2.drawContours(out, [contours[1]], -1, (255, 255,255), cv2.FILLED)\n",
    "ii=cv2.drawContours(out, [contours[6]], -1, (255, 255,255), cv2.FILLED)\n",
    "ii=cv2.drawContours(out, [contours[7]], -1, (255, 255,255), cv2.FILLED)\n",
    "#cv2.drawContours(out, contours[4], -1, (0, 255, 0),2)\n",
    "#ii=cv2.fillPoly( out, contours[2], (0, 255, 0))\n",
    "\n",
    "show(ii)\n",
    "\n",
    "\n",
    "\n",
    "\n",
    "\"\"\"\n",
    "cv2.imshow('Output', image)\n",
    "k = cv2.waitKey(0)\n",
    "if k == 'q':\n",
    "    break\n",
    "\n",
    "cv2.destroyAllWindows()\n",
    "\"\"\""
   ]
  },
  {
   "cell_type": "code",
   "execution_count": null,
   "metadata": {},
   "outputs": [],
   "source": []
  }
 ],
 "metadata": {
  "kernelspec": {
   "name": "python385jvsc74a57bd05d5f2289a8fd440c6e2dadb42c4e85fe70d824934ba370ccb148d08da48b27fc",
   "display_name": "Python 3.8.5 64-bit ('base': conda)"
  },
  "language_info": {
   "codemirror_mode": {
    "name": "ipython",
    "version": 3
   },
   "file_extension": ".py",
   "mimetype": "text/x-python",
   "name": "python",
   "nbconvert_exporter": "python",
   "pygments_lexer": "ipython3",
   "version": "3.8.5"
  },
  "metadata": {
   "interpreter": {
    "hash": "5d5f2289a8fd440c6e2dadb42c4e85fe70d824934ba370ccb148d08da48b27fc"
   }
  }
 },
 "nbformat": 4,
 "nbformat_minor": 4
}