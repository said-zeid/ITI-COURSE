{
 "cells": [
  {
   "cell_type": "code",
   "execution_count": 9,
   "metadata": {},
   "outputs": [],
   "source": [
    "import cv2\n",
    "import numpy as np\n",
    "import matplotlib.pyplot as plt\n",
    "from math import hypot, pi, cos, sin\n",
    "\n",
    "img = cv2.imread('Building.jpg')\n",
    "gray = cv2.cvtColor(img, cv2.COLOR_BGR2GRAY)\n",
    "def nothing(x):\n",
    "    pass\n",
    "\n",
    "cv2.namedWindow('Hough')\n",
    "\n",
    "cv2.createTrackbar('x', 'Hough', 300, 500, nothing)\n",
    "cv2.createTrackbar('min_dist', 'Hough', 0, 10, nothing)\n",
    "cv2.createTrackbar('max_dist', 'Hough', 0, 10, nothing)\n",
    "\n",
    "# Detect Edges\n",
    "edges = cv2.Canny(gray, 100, 200)\n",
    "# Get Lines\n",
    "#lines = cv2.HoughLinesP(edges, 1, np.pi / 180, x, None, 300, 500)\n",
    "#plt.imshow(edges, cmap='gray');\n",
    "\n",
    "\n",
    "while 1:\n",
    "    image = img.copy()\n",
    "    x = cv2.getTrackbarPos('x','Hough')\n",
    "    min_dist = cv2.getTrackbarPos('min_dist','Hough')\n",
    "    max_dist = cv2.getTrackbarPos('max_dist','Hough')\n",
    "    #lines = cv2.HoughLines(edges, 1, np.pi/180, x)\n",
    "    #lines = cv.HoughLines(edges, 1, np.pi / 180, 150, None, 0, 0)\n",
    "    lines = cv2.HoughLinesP(edges, 1, np.pi / 180, x, None, min_dist, max_dist)\n",
    "    if lines is not None:\n",
    "        for i in range(0, len(lines)):\n",
    "            \"\"\"\n",
    "            rho = lines[i][0][0]\n",
    "            theta = lines[i][0][1]\n",
    "\n",
    "            x0 = rho * np.cos(theta)\n",
    "            y0 = rho * np.sin(theta)\n",
    "\n",
    "            a = np.cos(theta)\n",
    "            b = np.sin(theta)\n",
    "            \"\"\"\n",
    "            x1 =  lines[i][0][0]#int(x0 + 1000 * (-b))\n",
    "            y1 =  lines[i][0][1]#int(y0 + 1000 * (a))\n",
    "            x2 = lines[i][0][2]#int(x0 - 1000 * (-b))\n",
    "            y2 = lines[i][0][3]#int(y0 - 1000 * (a))\n",
    "            cv2.line(image, (x1, y1), (x2, y2), (0, 0, 255), 2)\n",
    "    \n",
    "    edgesC = cv2.cvtColor(edges, cv2.COLOR_GRAY2BGR)\n",
    "    image = cv2.addWeighted(image, 0.9, edgesC, 0.5, 0)\n",
    "    #cv2.imwrite('Roadout.jpg', image)\n",
    "    cv2.imshow('Hough', image)\n",
    "    k = cv2.waitKey(1)\n",
    "    if k == 27:\n",
    "        cv2.imwrite('Buildingout.jpg', image)\n",
    "        break\n",
    "\n",
    "cv2.destroyAllWindows()\n",
    "\n"
   ]
  },
  {
   "cell_type": "code",
   "execution_count": null,
   "metadata": {},
   "outputs": [],
   "source": []
  }
 ],
 "metadata": {
  "kernelspec": {
   "name": "python385jvsc74a57bd05d5f2289a8fd440c6e2dadb42c4e85fe70d824934ba370ccb148d08da48b27fc",
   "display_name": "Python 3.8.5 64-bit ('base': conda)"
  },
  "language_info": {
   "codemirror_mode": {
    "name": "ipython",
    "version": 3
   },
   "file_extension": ".py",
   "mimetype": "text/x-python",
   "name": "python",
   "nbconvert_exporter": "python",
   "pygments_lexer": "ipython3",
   "version": "3.8.5"
  },
  "metadata": {
   "interpreter": {
    "hash": "5d5f2289a8fd440c6e2dadb42c4e85fe70d824934ba370ccb148d08da48b27fc"
   }
  }
 },
 "nbformat": 4,
 "nbformat_minor": 4
}